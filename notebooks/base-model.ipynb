{
 "cells": [
  {
   "cell_type": "markdown",
   "metadata": {},
   "source": [
    "## MAPE"
   ]
  },
  {
   "cell_type": "code",
   "execution_count": 24,
   "metadata": {},
   "outputs": [
    {
     "name": "stdout",
     "output_type": "stream",
     "text": [
      "MAPE for baseline model: 477.95%\n"
     ]
    }
   ],
   "source": [
    "import pandas as pd\n",
    "\n",
    "# Load the dataset\n",
    "df = pd.read_csv('../data/processed/auction_results_no_img.csv')\n",
    "\n",
    "# Group the data by artist and calculate the average auction price for each artist\n",
    "artist_avg_price = df.groupby('ARTIST')['PRICE'].mean().reset_index()\n",
    "\n",
    "# Merge the average prices back to the original dataset\n",
    "df = df.merge(artist_avg_price, on='ARTIST', suffixes=('', '_avg'))\n",
    "\n",
    "# Calculate the absolute percentage error for each row\n",
    "df['abs_percentage_error'] = abs((df['PRICE'] - df['PRICE_avg']) / df['PRICE']) * 100\n",
    "\n",
    "# Calculate MAPE (Mean Absolute Percentage Error) as the mean of all absolute percentage errors\n",
    "mape_baseline = df['abs_percentage_error'].mean()\n",
    "\n",
    "# Display the MAPE for the baseline model\n",
    "print(f'MAPE for baseline model: {mape_baseline:.2f}%')\n"
   ]
  },
  {
   "cell_type": "code",
   "execution_count": 25,
   "metadata": {},
   "outputs": [
    {
     "name": "stdout",
     "output_type": "stream",
     "text": [
      "MAPE for XGBoost model: 292.74%\n",
      "XGBoost model improves MAPE by 38.75% compared to the baseline.\n"
     ]
    }
   ],
   "source": [
    "import pandas as pd\n",
    "from sklearn.model_selection import train_test_split\n",
    "from sklearn.metrics import mean_absolute_percentage_error\n",
    "import xgboost as xgb\n",
    "\n",
    "# Load the dataset correctly using read_csv for CSV files\n",
    "df = pd.read_csv('../data/processed/auction_results_no_img.csv')\n",
    "\n",
    "# Extracting the target variable (Price)\n",
    "y = df['PRICE']\n",
    "X = df.drop(['PRICE'], axis=1)\n",
    "\n",
    "# Split the data into training and testing sets\n",
    "X_train, X_test, y_train, y_test = train_test_split(X, y, test_size=0.2)\n",
    "\n",
    "# Initialize and train the XGBoost model with specified parameters\n",
    "xg_reg = xgb.XGBRegressor(\n",
    "    objective ='reg:squarederror'\n",
    ")\n",
    "\n",
    "# Train the model\n",
    "xg_reg.fit(X_train, y_train)\n",
    "\n",
    "# Make predictions on the test set\n",
    "y_pred = xg_reg.predict(X_test)\n",
    "\n",
    "# Calculate MAPE for the XGBoost model\n",
    "mape_xgboost = mean_absolute_percentage_error(y_test, y_pred) * 100\n",
    "\n",
    "# Display the MAPE for the XGBoost model\n",
    "print(f'MAPE for XGBoost model: {mape_xgboost:.2f}%')\n",
    "\n",
    "# Assuming you have already calculated the baseline MAPE earlier\n",
    "# Compare the two MAPE scores (make sure you have mape_baseline defined earlier)\n",
    "improvement_percentage = ((mape_baseline - mape_xgboost) / mape_baseline) * 100\n",
    "print(f'XGBoost model improves MAPE by {improvement_percentage:.2f}% compared to the baseline.')\n"
   ]
  },
  {
   "cell_type": "markdown",
   "metadata": {},
   "source": [
    "## sMAPE"
   ]
  },
  {
   "cell_type": "code",
   "execution_count": 26,
   "metadata": {},
   "outputs": [
    {
     "name": "stdout",
     "output_type": "stream",
     "text": [
      "sMAPE for baseline model: 73.64%\n"
     ]
    }
   ],
   "source": [
    "import pandas as pd\n",
    "\n",
    "# Load the dataset\n",
    "df = pd.read_csv('../data/processed/auction_results_no_img.csv')\n",
    "\n",
    "# Group the data by artist and calculate the average auction price for each artist\n",
    "artist_avg_price = df.groupby('ARTIST')['PRICE'].mean().reset_index()\n",
    "\n",
    "# Merge the average prices back to the original dataset\n",
    "df = df.merge(artist_avg_price, on='ARTIST', suffixes=('', '_avg'))\n",
    "\n",
    "# Calculate the symmetric absolute percentage error for each row\n",
    "# Formula: sMAPE = 2 * |actual - forecast| / (|actual| + |forecast|)\n",
    "df['symmetric_abs_percentage_error'] = 2 * abs(df['PRICE'] - df['PRICE_avg']) / (abs(df['PRICE']) + abs(df['PRICE_avg']))\n",
    "\n",
    "# Calculate sMAPE as the mean of all symmetric absolute percentage errors\n",
    "smape_baseline = df['symmetric_abs_percentage_error'].mean() * 100\n",
    "\n",
    "# Display the sMAPE for the baseline model\n",
    "print(f'sMAPE for baseline model: {smape_baseline:.2f}%')\n"
   ]
  },
  {
   "cell_type": "code",
   "execution_count": 27,
   "metadata": {},
   "outputs": [
    {
     "name": "stdout",
     "output_type": "stream",
     "text": [
      "sMAPE for XGBoost model: 56.99%\n",
      "XGBoost model improves sMAPE by 22.61% compared to the baseline.\n"
     ]
    }
   ],
   "source": [
    "import pandas as pd\n",
    "from sklearn.model_selection import train_test_split\n",
    "import xgboost as xgb\n",
    "import numpy as np\n",
    "\n",
    "# Function to calculate sMAPE\n",
    "def smape(y_true, y_pred):\n",
    "    return 100 * np.mean(2 * np.abs(y_pred - y_true) / (np.abs(y_pred) + np.abs(y_true)))\n",
    "\n",
    "# Load the dataset correctly using read_csv for CSV files\n",
    "df = pd.read_csv('../data/processed/auction_results_no_img.csv')\n",
    "\n",
    "# Extracting the target variable (Price)\n",
    "y = df['PRICE']\n",
    "X = df.drop(['PRICE'], axis=1)\n",
    "\n",
    "# Split the data into training and testing sets\n",
    "X_train, X_test, y_train, y_test = train_test_split(X, y, test_size=0.2)\n",
    "\n",
    "# Initialize and train the XGBoost model with specified parameters\n",
    "xg_reg = xgb.XGBRegressor(\n",
    "    objective='reg:squarederror'\n",
    ")\n",
    "\n",
    "# Train the model\n",
    "xg_reg.fit(X_train, y_train)\n",
    "\n",
    "# Make predictions on the test set\n",
    "y_pred = xg_reg.predict(X_test)\n",
    "\n",
    "# Calculate sMAPE for the XGBoost model\n",
    "smape_xgboost = smape(y_test, y_pred)\n",
    "\n",
    "# Display the sMAPE for the XGBoost model\n",
    "print(f'sMAPE for XGBoost model: {smape_xgboost:.2f}%')\n",
    "\n",
    "# Assuming you have already calculated the baseline sMAPE earlier (smape_baseline)\n",
    "# Compare the two sMAPE scores\n",
    "# Improvement percentage\n",
    "improvement_percentage = ((smape_baseline - smape_xgboost) / smape_baseline) * 100\n",
    "print(f'XGBoost model improves sMAPE by {improvement_percentage:.2f}% compared to the baseline.')"
   ]
  },
  {
   "cell_type": "markdown",
   "metadata": {},
   "source": [
    "## XLSX"
   ]
  },
  {
   "cell_type": "code",
   "execution_count": 39,
   "metadata": {},
   "outputs": [
    {
     "name": "stdout",
     "output_type": "stream",
     "text": [
      "MAPE for baseline model: 416.15%\n"
     ]
    }
   ],
   "source": [
    "import pandas as pd\n",
    "\n",
    "# Load the dataset\n",
    "df = pd.read_excel('../data/processed/encoded_results_2024_05_11.xlsx')\n",
    "\n",
    "# Group the data by artist and calculate the average auction price for each artist\n",
    "artist_avg_price = df.groupby('ARTIST')['PRICE'].mean().reset_index()\n",
    "\n",
    "# Merge the average prices back to the original dataset\n",
    "df = df.merge(artist_avg_price, on='ARTIST', suffixes=('', '_avg'))\n",
    "\n",
    "# Calculate the absolute percentage error for each row\n",
    "df['abs_percentage_error'] = abs((df['PRICE'] - df['PRICE_avg']) / df['PRICE']) * 100\n",
    "\n",
    "# Calculate MAPE (Mean Absolute Percentage Error) as the mean of all absolute percentage errors\n",
    "mape_baseline = df['abs_percentage_error'].mean()\n",
    "\n",
    "# Display the MAPE for the baseline model\n",
    "print(f'MAPE for baseline model: {mape_baseline:.2f}%')\n"
   ]
  },
  {
   "cell_type": "code",
   "execution_count": 40,
   "metadata": {},
   "outputs": [
    {
     "name": "stdout",
     "output_type": "stream",
     "text": [
      "MAPE for XGBoost model: 269.27%\n",
      "XGBoost model improves MAPE by 35.29% compared to the baseline.\n"
     ]
    }
   ],
   "source": [
    "import pandas as pd\n",
    "from sklearn.model_selection import train_test_split\n",
    "from sklearn.metrics import mean_absolute_percentage_error\n",
    "import xgboost as xgb\n",
    "\n",
    "# Load the dataset\n",
    "df = pd.read_excel('../data/processed/encoded_results_2024_05_11.xlsx')\n",
    "\n",
    "# Prepare features and target\n",
    "df = df.drop(['URL', 'ImageName','AUCTION DATE'], axis=1)\n",
    "\n",
    "# Extracting the target variable (Price)\n",
    "y = df['PRICE']\n",
    "X = df.drop(['PRICE'], axis=1)\n",
    "\n",
    "# Split the data into training and testing sets\n",
    "X_train, X_test, y_train, y_test = train_test_split(X, y, test_size=0.05, random_state=50)\n",
    "\n",
    "# Initialize and train the XGBoost model\n",
    "xg_reg = xgb.XGBRegressor(objective ='reg:squarederror')\n",
    "\n",
    "# Train the model\n",
    "xg_reg.fit(X_train, y_train)\n",
    "\n",
    "# Make predictions on the test set\n",
    "y_pred = xg_reg.predict(X_test)\n",
    "\n",
    "# Calculate MAPE for the XGBoost model\n",
    "mape_xgboost = mean_absolute_percentage_error(y_test, y_pred) * 100\n",
    "\n",
    "# Display the MAPE for the XGBoost model\n",
    "print(f'MAPE for XGBoost model: {mape_xgboost:.2f}%')\n",
    "\n",
    "# Assuming you have already calculated the baseline MAPE earlier\n",
    "# Compare the two MAPE scores\n",
    "improvement_percentage = ((mape_baseline - mape_xgboost) / mape_baseline) * 100\n",
    "print(f'XGBoost model improves MAPE by {improvement_percentage:.2f}% compared to the baseline.')\n"
   ]
  }
 ],
 "metadata": {
  "kernelspec": {
   "display_name": ".venv",
   "language": "python",
   "name": "python3"
  },
  "language_info": {
   "codemirror_mode": {
    "name": "ipython",
    "version": 3
   },
   "file_extension": ".py",
   "mimetype": "text/x-python",
   "name": "python",
   "nbconvert_exporter": "python",
   "pygments_lexer": "ipython3",
   "version": "3.11.1"
  }
 },
 "nbformat": 4,
 "nbformat_minor": 2
}
